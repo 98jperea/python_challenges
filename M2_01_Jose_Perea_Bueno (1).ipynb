{
 "cells": [
  {
   "cell_type": "code",
   "execution_count": 46,
   "id": "3f865252-a4ca-462b-b7ad-fd3832d2d489",
   "metadata": {},
   "outputs": [
    {
     "name": "stdout",
     "output_type": "stream",
     "text": [
      "12\n",
      "<class 'int'>\n",
      "12.0\n",
      "<class 'float'>\n",
      "Hola\n",
      "<class 'str'>\n",
      "True\n",
      "<class 'bool'>\n"
     ]
    }
   ],
   "source": [
    "#1) Indica un ejemplo de un tipo de dato:\n",
    "\n",
    "#Entero\n",
    "entero = 12\n",
    "print(entero)\n",
    "print(type(entero))\n",
    "\n",
    "\n",
    "#Flotante\n",
    "flotante = float(12)\n",
    "print(flotante)\n",
    "print(type(flotante))\n",
    "\n",
    "#String\n",
    "string = \"Hola\"\n",
    "print(string)\n",
    "print(type(string))\n",
    "\n",
    "#Booleano\n",
    "\n",
    "booleano = True\n",
    "print(booleano)\n",
    "print(type(booleano))"
   ]
  },
  {
   "cell_type": "code",
   "execution_count": 60,
   "id": "0e419aef-11e1-436c-a9f1-19d5fb61d16f",
   "metadata": {},
   "outputs": [
    {
     "name": "stdout",
     "output_type": "stream",
     "text": [
      "JoséPerea\n",
      "José Perea\n",
      "JoséPerea.\n",
      "José Perea.\n",
      "JoséJoséJosé\n"
     ]
    }
   ],
   "source": [
    "#2) Crea dos variables que se llamen nombre y apellido, en ellas introduce tu nombre y apellidos y luego prueba lo siguiente e indica el resultado:\n",
    "\n",
    "nombre = \"José\"\n",
    "apellido = \"Perea\"\n",
    "print(nombre + apellido)\n",
    "print(nombre + \" \" + apellido)\n",
    "\n",
    "print(nombre + apellido + \".\")\n",
    "print(nombre + \" \" + apellido + \".\")\n",
    "\n",
    "print(nombre*3)"
   ]
  },
  {
   "cell_type": "code",
   "execution_count": 70,
   "id": "f96bbcb6-82a7-4be3-aa4c-86d0e2880675",
   "metadata": {},
   "outputs": [
    {
     "name": "stdout",
     "output_type": "stream",
     "text": [
      "José\n"
     ]
    }
   ],
   "source": [
    "#3) Retoma el ejercicio anterior, crea una variable que se llame nombreCompleto que una tu nombre y tu apellido con un espacio en el medio. \n",
    "#Sobre esta variable, ¿eres capaz a extraer tu nombre utilizando slicing?\n",
    "\n",
    "nombreCompleto = \"José Perea\"\n",
    "print(nombreCompleto[0:4])"
   ]
  },
  {
   "cell_type": "code",
   "execution_count": null,
   "id": "238fa823-2cc8-4066-8ac7-8d460cccc941",
   "metadata": {},
   "outputs": [],
   "source": []
  }
 ],
 "metadata": {
  "kernelspec": {
   "display_name": "Python 3 (ipykernel)",
   "language": "python",
   "name": "python3"
  },
  "language_info": {
   "codemirror_mode": {
    "name": "ipython",
    "version": 3
   },
   "file_extension": ".py",
   "mimetype": "text/x-python",
   "name": "python",
   "nbconvert_exporter": "python",
   "pygments_lexer": "ipython3",
   "version": "3.12.4"
  }
 },
 "nbformat": 4,
 "nbformat_minor": 5
}
