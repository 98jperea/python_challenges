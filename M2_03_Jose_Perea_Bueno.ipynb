{
 "cells": [
  {
   "cell_type": "code",
   "execution_count": null,
   "id": "4f940a83-de9b-4502-83f6-f16f9d8d1f09",
   "metadata": {},
   "outputs": [],
   "source": [
    "#**1) Utiliza el método input() para realizar las siguientes tareas:**\n",
    "\n",
    "#* Pide un número por teclado, muestra el resultado y su tipo (para conocer en que tipo de dato captura la información input())\n",
    "#* Pide un número por teclado y asegurate de que capturemos la información en formato int\n",
    "#* Pide un número por teclado y asegurate de que capturemos la información en formato float\n",
    "\n",
    "#__Comprobar con type que los datos son del tipo correcto__"
   ]
  },
  {
   "cell_type": "code",
   "execution_count": 12,
   "id": "2cf54a95-64f9-4888-a0f8-42cc3f9ad02d",
   "metadata": {},
   "outputs": [
    {
     "name": "stdin",
     "output_type": "stream",
     "text": [
      "Dame un número  2\n"
     ]
    },
    {
     "name": "stdout",
     "output_type": "stream",
     "text": [
      "2\n",
      "<class 'str'>\n"
     ]
    }
   ],
   "source": [
    "#* Pide un número por teclado, muestra el resultado y su tipo (para conocer en que tipo de dato captura la información input())\n",
    "\n",
    "solicitar_texto = input(\"Dame un número \")\n",
    "print(solicitar_texto)\n",
    "print(type(solicitar_texto))"
   ]
  },
  {
   "cell_type": "code",
   "execution_count": 20,
   "id": "034206a2-6cb7-4937-8072-7be4d40bea13",
   "metadata": {},
   "outputs": [
    {
     "name": "stdin",
     "output_type": "stream",
     "text": [
      "Dame un número  2\n"
     ]
    },
    {
     "name": "stdout",
     "output_type": "stream",
     "text": [
      "2\n",
      "<class 'int'>\n"
     ]
    }
   ],
   "source": [
    "#* Pide un número por teclado y asegurate de que capturemos la información en formato int\n",
    "\n",
    "solicitar_texto = input(\"Dame un número \")\n",
    "solicitar_texto = int(solicitar_texto)\n",
    "print(solicitar_texto)\n",
    "print(type(solicitar_texto))"
   ]
  },
  {
   "cell_type": "code",
   "execution_count": 22,
   "id": "0a605ea7-aad5-4c09-8e33-8efedb303fd5",
   "metadata": {},
   "outputs": [
    {
     "name": "stdin",
     "output_type": "stream",
     "text": [
      "Dame un número  2\n"
     ]
    },
    {
     "name": "stdout",
     "output_type": "stream",
     "text": [
      "2.0\n",
      "<class 'float'>\n"
     ]
    }
   ],
   "source": [
    "#* Pide un número por teclado y asegurate de que capturemos la información en formato float\n",
    "\n",
    "solicitar_texto = input(\"Dame un número \")\n",
    "solicitar_texto = float(solicitar_texto)\n",
    "print(solicitar_texto)\n",
    "print(type(solicitar_texto))"
   ]
  },
  {
   "cell_type": "code",
   "execution_count": 87,
   "id": "be23deea-5fd4-401e-a845-e58dad32f9e2",
   "metadata": {},
   "outputs": [
    {
     "name": "stdin",
     "output_type": "stream",
     "text": [
      "Dame un número entero por teclado 3\n"
     ]
    },
    {
     "name": "stdout",
     "output_type": "stream",
     "text": [
      "000003\n"
     ]
    }
   ],
   "source": [
    "#**2) Vamos a formatear números:**\n",
    "\n",
    "#* Pide un numero entero por teclado\n",
    "\n",
    "solicitar_numero = input(\"Dame un número entero por teclado\")\n",
    "\n",
    "#* Muéstralo con el formato de 5 dígitos rellenos con 0s por delante\n",
    "\n",
    "print(\"00000\" + solicitar_numero)"
   ]
  },
  {
   "cell_type": "code",
   "execution_count": 89,
   "id": "3bd18632-591d-42e4-af0a-4d8ee85ca006",
   "metadata": {},
   "outputs": [
    {
     "name": "stdin",
     "output_type": "stream",
     "text": [
      "Dame un número flotante por teclado 3\n"
     ]
    },
    {
     "name": "stdout",
     "output_type": "stream",
     "text": [
      "3.0\n",
      "<class 'float'>\n"
     ]
    }
   ],
   "source": [
    "#* Pide un número flotante por teclado\n",
    "\n",
    "solicitar_numero2 = input(\"Dame un número flotante por teclado\")\n",
    "solicitar_numero2 = float(solicitar_numero2)\n",
    "\n",
    "print(solicitar_numero2)\n",
    "print(type(solicitar_numero2))"
   ]
  },
  {
   "cell_type": "code",
   "execution_count": 105,
   "id": "818b4616-fa3a-493b-88f0-e4ca2fc7933d",
   "metadata": {},
   "outputs": [
    {
     "name": "stdin",
     "output_type": "stream",
     "text": [
      "Dame un número por teclado y muéstralo con 5 dígitos para la parte entera y 3 dígitos para la parte decimal 3\n"
     ]
    },
    {
     "name": "stdout",
     "output_type": "stream",
     "text": [
      "00003.000\n"
     ]
    }
   ],
   "source": [
    "\n",
    "#* Muéstralo con 5 dígitos para la parte entera y 3 dígitos para la parte decimal\n",
    "\n",
    "solicitar_numero3 = input(\"Dame un número por teclado y muéstralo con 5 dígitos para la parte entera y 3 dígitos para la parte decimal\")\n",
    "\n",
    "print(\"0000\" + solicitar_numero3 + \".000\")"
   ]
  },
  {
   "cell_type": "code",
   "execution_count": null,
   "id": "0373a529-0c08-4966-8014-6ac635355796",
   "metadata": {},
   "outputs": [],
   "source": [
    "#**3) Vamos a ponernos creativos. ¿Cuántas formas tienes de mostrar esta información?**<bR>\n",
    "#<code>La altura es de 1,80 metros y el peso es de 80,135 KG</code>\n",
    "    \n",
    "#Siendo la altura y el peso dos variables que se recojan con 2 inputs\n",
    "    \n",
    "#__Pista: format() se puede usar de varias formas__"
   ]
  },
  {
   "cell_type": "code",
   "execution_count": 145,
   "id": "474c43bf-e906-44cf-95ab-52af60cbe297",
   "metadata": {},
   "outputs": [
    {
     "name": "stdin",
     "output_type": "stream",
     "text": [
      "Dame una altura 1,80\n",
      "Ahora dame un peso 80,135\n"
     ]
    },
    {
     "name": "stdout",
     "output_type": "stream",
     "text": [
      "La altura es de 1,80 metros y el peso es de 80,135 KG\n"
     ]
    }
   ],
   "source": [
    "altura = input(\"Dame una altura\")\n",
    "peso = input(\"Ahora dame un peso\")\n",
    "print(\"La altura es de\",altura, \"metros y el peso es de\",peso,\"KG\")"
   ]
  },
  {
   "cell_type": "markdown",
   "id": "6b510e36-2f1f-4abe-b436-709790310e0b",
   "metadata": {},
   "source": []
  }
 ],
 "metadata": {
  "kernelspec": {
   "display_name": "Python 3 (ipykernel)",
   "language": "python",
   "name": "python3"
  },
  "language_info": {
   "codemirror_mode": {
    "name": "ipython",
    "version": 3
   },
   "file_extension": ".py",
   "mimetype": "text/x-python",
   "name": "python",
   "nbconvert_exporter": "python",
   "pygments_lexer": "ipython3",
   "version": "3.12.4"
  }
 },
 "nbformat": 4,
 "nbformat_minor": 5
}
