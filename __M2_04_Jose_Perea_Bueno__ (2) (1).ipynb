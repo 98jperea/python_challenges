{
 "cells": [
  {
   "cell_type": "code",
   "execution_count": null,
   "id": "1dd4fdcc-4457-4080-9367-1c4a63484eb4",
   "metadata": {},
   "outputs": [],
   "source": [
    "# Ejercicios Modulo 2. Tipos avanzados\n",
    "\n",
    "#Consideraciones a tener en cuenta: \n",
    "\n",
    "#* Guardar este documento con el siguiente formato para su entrega: __M2_04_nombre_apellido1_apellido2__\n",
    "\n",
    "#* Realizar los ejercicios con las herramientas vistas en las sesiones. Aún no hemos llegado a condicionales ni bucles\n",
    "\n",
    "#* Comentar el código\n",
    "\n",
    "#* Utilizar nombres de variables apropiados, si vais a guardar una nota, llamar a esa variable nota, no n o x"
   ]
  },
  {
   "cell_type": "code",
   "execution_count": 52,
   "id": "49b7707a-2810-48b6-936a-f43e91cbbb17",
   "metadata": {},
   "outputs": [
    {
     "name": "stdout",
     "output_type": "stream",
     "text": [
      "['Pollo', 'Patata', 'Vinagre']\n",
      "('Opel', 'Ford', 'Seat')\n",
      "Patata\n",
      "Ford\n",
      "['Pollo', 'Ensalada', 'Vinagre']\n",
      "En la tupla no se pueden modificar elementos\n",
      "3\n",
      "3\n",
      "True\n",
      "True\n",
      "['Pollo', 'Ensalada', 'Vinagre', 'Pescado']\n",
      "Las tuplas son inmutables\n",
      "['Pollo', 'Ensalada', 'Vinagre']\n",
      "Las tuplas son inmutables\n"
     ]
    }
   ],
   "source": [
    "## Ejercicios de tipos avanzados\n",
    "\n",
    "#**1) Trabajemos con listas y tuplas**\n",
    "#* Crea una lista y una tupla que contenga strings (al menos 3 elementos). Tematica libre, sobre lo que quieras, vehiculos, comida, música, etc.\n",
    "\n",
    "lista_comida = [\"Pollo\", \"Patata\", \"Vinagre\"]\n",
    "tupla_vehiculos = (\"Opel\",\"Ford\",\"Seat\")\n",
    "\n",
    "#* Muestra la lista y la tupla\n",
    "\n",
    "print(lista_comida)\n",
    "print(tupla_vehiculos)\n",
    "\n",
    "#* Muestra el 2º elemento de la lista y el penúltimo de la tupla\n",
    "\n",
    "print(lista_comida[1])\n",
    "print(tupla_vehiculos[-2])\n",
    "\n",
    "#* Modifica (si se puede) algún elemento de la lista y de la tupla. Y mostrar el resultado\n",
    "\n",
    "lista_comida[1] = \"Ensalada\"\n",
    "print(lista_comida)\n",
    "print(\"En la tupla no se pueden modificar elementos\")\n",
    "\n",
    "#* Muestra el tamaño de la lista y de la tupla\n",
    "\n",
    "print(len(lista_comida))\n",
    "print(len(tupla_vehiculos))\n",
    "\n",
    "#* Realiza una búsqueda de un elemento dentro de la lista y de la tupla. Mostrar si devuelve True o False\n",
    "\n",
    "print(\"Pollo\" in lista_comida)\n",
    "print(\"Opel\" in tupla_vehiculos)\n",
    "\n",
    "#* Añade (si se puede) algún elemento a la lista y a la tupla. Mostrar de nuevo la lista y la tupla para verificar \n",
    "    #si se ha realizado correctamente la acción.\n",
    "\n",
    "lista_comida.extend([\"Pescado\"])\n",
    "print(lista_comida)\n",
    "print(\"Las tuplas son inmutables\")\n",
    "\n",
    "#* Borra o elimina (si se puede) el contenido de la lista y de la tupla. Mosstrar de nuevo la lista y la tupla para verificar si se ha \n",
    "    #realizado correctamente la acción\n",
    "\n",
    "lista_comida.pop(3)\n",
    "print(lista_comida)\n",
    "print(\"Las tuplas son inmutables\")"
   ]
  },
  {
   "cell_type": "code",
   "execution_count": 103,
   "id": "c28d054e-a02e-4f13-bec3-b5fdbbd07c20",
   "metadata": {},
   "outputs": [
    {
     "name": "stdout",
     "output_type": "stream",
     "text": [
      "{'Adiós', 'Hola', 'Qué tal'}\n",
      "{'Nombre': 'Jose', 'Apellido': 'Perea', 'Nacionalidad': 'Española'}\n",
      "No se puede mostrar un elemento de una posición del set\n",
      "Jose\n",
      "Los elementos del set son inmutables\n",
      "{'Nombre': 'Pepe', 'Apellido': 'Perea', 'Nacionalidad': 'Española'}\n",
      "3\n",
      "3\n",
      "True\n",
      "True\n",
      "{'Cómo estás', 'Adiós', 'Hola', 'Qué tal'}\n",
      "{'Nombre': 'Pepe', 'Apellido': 'Perea', 'Nacionalidad': 'Española', 'Edad': 26}\n",
      "{'Adiós', 'Hola', 'Qué tal'}\n",
      "{'Nombre': 'Pepe', 'Apellido': 'Perea', 'Nacionalidad': 'Española'}\n"
     ]
    }
   ],
   "source": [
    "#**2) Trabajemos con sets y diccionarios**\n",
    "\n",
    "#* Crea una set y un diccionario que contengan strings (al menos 3 elementos en el caso del set y 3 conjuntos de clave:valor en el caso del diccionario). Tematica libre, sobre lo que quieras, vehiculos, comida, música, etc.\n",
    "\n",
    "set = {\"Hola\", \"Qué tal\", \"Adiós\"}\n",
    "\n",
    "diccionario = {\n",
    "    \"Nombre\": \"Jose\",\n",
    "    \"Apellido\": \"Perea\",\n",
    "    \"Nacionalidad\": \"Española\"\n",
    "}\n",
    "\n",
    "#* Muestra el set y el diccionario\n",
    "\n",
    "print(set)\n",
    "print(diccionario)\n",
    "\n",
    "#* Muestra (si se puede) el 2º elemento del set y el valor del primer clave-valor del diccionario\n",
    "\n",
    "print(\"No se puede mostrar un elemento de una posición del set\")\n",
    "print(diccionario[\"Nombre\"])\n",
    "\n",
    "#* Modifica (si se puede) algún elemento del set o del diccionario. Y mostrar el resultado\n",
    "\n",
    "print(\"Los elementos del set son inmutables\")\n",
    "\n",
    "diccionario[\"Nombre\"] = \"Pepe\"\n",
    "print(diccionario)\n",
    "\n",
    "#* Muestra el tamaño del set y del diccionario\n",
    "\n",
    "print(len(set))\n",
    "print(len(diccionario))\n",
    "\n",
    "#* Realiza una búsqueda de un elemento dentro del set y dentro del diccionario. Mostrar si devuelve True o False\n",
    "\n",
    "print(\"Hola\" in set)\n",
    "print(\"Nombre\" in diccionario)\n",
    "\n",
    "#* Añade (si se puede) algún elemento al set y algun clave-valor al diccionario. Mostrar de nuevo el set y el diccionario \n",
    "#para verificar si se ha realizado correctamente la acción.\n",
    "\n",
    "set.add(\"Cómo estás\")\n",
    "diccionario[\"Edad\"] = 26\n",
    "\n",
    "print(set)\n",
    "print(diccionario)\n",
    "\n",
    "#* Borra o elimina (si se puede) el contenido del set y del diccionario. Mostrar de nuevo el set y el diccionario para verificar si se ha \n",
    "#realizado correctamente la acción\n",
    "\n",
    "set.remove(\"Cómo estás\")\n",
    "del diccionario[\"Edad\"]\n",
    "\n",
    "print(set)\n",
    "print(diccionario)"
   ]
  },
  {
   "cell_type": "code",
   "execution_count": 149,
   "id": "b5921800-03b4-4550-9703-5fd20944d2b3",
   "metadata": {},
   "outputs": [
    {
     "name": "stdout",
     "output_type": "stream",
     "text": [
      "Dame tres números\n"
     ]
    },
    {
     "name": "stdin",
     "output_type": "stream",
     "text": [
      " 1\n",
      " 2\n",
      " 3\n"
     ]
    },
    {
     "name": "stdout",
     "output_type": "stream",
     "text": [
      "6\n"
     ]
    }
   ],
   "source": [
    "#**3) Realizar un programa que pida al usuario 3 números que pueden ser flotantes \n",
    "#(no es necesario realizar bucles aún, podemos repetir el código), estos números se deberán introducir en una lista. \n",
    "#Cuando se haya finalizado la introducción de los datos, se mostrará el sumatorio de toda la lista. \n",
    "#Guardar el sumatorio en una variable que se llame \"sumatorio\"**\n",
    "\n",
    "print(\"Dame tres números\")\n",
    "numero1 = input()\n",
    "numero2 = input()\n",
    "numero3 = input()\n",
    "\n",
    "a = [numero1, numero2, numero3]\n",
    "\n",
    "sumatorio = int(numero1) + int(numero2) + int(numero3)\n",
    "\n",
    "print(sumatorio)\n",
    "\n",
    "#*Ayuda: Existe una función llamada sum(lista) ¡Pruébalo!*"
   ]
  },
  {
   "cell_type": "code",
   "execution_count": 153,
   "id": "c3bba9c6-8a98-494b-97fc-e8042f051768",
   "metadata": {},
   "outputs": [
    {
     "name": "stdout",
     "output_type": "stream",
     "text": [
      "2.0\n"
     ]
    }
   ],
   "source": [
    "#**4) Sobre el ejercicio anterior, queremos mostrar la media aritmética de los elementos de esa lista. \n",
    "#Indicar la instrucción necesaria para obtenerla.**\n",
    "\n",
    "average = sumatorio/len(a)\n",
    "print(average)\n",
    "\n",
    "#*En este caso sabemos que el número de elementos que ha introducido el usuario es 3, \n",
    "#pero en otra ocasión podría ser diferente, por lo tanto, no hagáis referencia al número 3 en ningún sitio*"
   ]
  },
  {
   "cell_type": "code",
   "execution_count": 10,
   "id": "04f00917-061c-48a7-ac84-cf01e8158daf",
   "metadata": {},
   "outputs": [
    {
     "name": "stdout",
     "output_type": "stream",
     "text": [
      "[[10, 10, 10, 30], [20, 20, 30, 70], [30, 30, 30, 90], [40, 40, 50, 130]]\n"
     ]
    }
   ],
   "source": [
    "#**5) Dada la siguiente matriz de notas (una matriz es una lista de listas anidadas) se observa que cada fila es un listado de notas de un alumno, \n",
    "#donde en la última posición de cada lista se encuentra el sumatorio de todas las notas anteriores de esa lista. \n",
    "#Pero apreciamos que hay varios errores en los sumatorios de varios alumnos, utilizar la técnica de slicing para acceder a estas posiciones y \n",
    "#modificar los valores erroneos de la forma más automatizada posible.**\n",
    "\n",
    "#* No vale poner directamente los valores:\n",
    "#```python\n",
    "#notas[1][3] = 60\n",
    "#notas[3][3] = 120\n",
    "#```\n",
    "#* Hay que buscar una forma automatizada de acceder y modificar esos valores\n",
    "\n",
    "notas = [ \n",
    "    [10, 10, 10, 30],\n",
    "    [20, 20, 20, 70],\n",
    "    [30, 30, 30, 90],\n",
    "    [40, 40, 40, 130]\n",
    "]\n",
    "\n",
    "notas[0][2] = (notas[0][3] - notas[0][1] - notas[0][0])\n",
    "notas[1][2] = (notas[1][3] - notas[1][1] - notas[1][0])\n",
    "notas[2][2] = (notas[2][3] - notas[2][1] - notas[2][0])\n",
    "notas[3][2] = (notas[3][3] - notas[3][1] - notas[3][0])\n",
    "\n",
    "print(notas)"
   ]
  },
  {
   "cell_type": "code",
   "execution_count": 52,
   "id": "b2dd1033-92a3-4a0c-b20e-c4794f8c39a9",
   "metadata": {},
   "outputs": [
    {
     "name": "stdout",
     "output_type": "stream",
     "text": [
      "Empleado Carlos Perez nacido en el año 1985\n"
     ]
    }
   ],
   "source": [
    "#**6) Supongamos que obtenemos una cadena de texto corrupta, esta al revés. Esta cadena contiene el nombre y el año de nacimiento de una persona. \n",
    "#Formatear dicha cadena para obtener el siguiente formato:**\n",
    "\n",
    "#* Empleado ***Nombre*** ***Apellido*** nacido en el año ***Año***\n",
    "\n",
    "#*Pista: Para invertir el orden una cadena usando técnicas de slicing se puede utilizar un tercer índice -1: cadena[::-1]*\n",
    "\n",
    "#cadena = \"zereP solraC,5891\"\n",
    "\n",
    "cadena = \"zereP solraC,5891\"\n",
    "cadena_ordenada = cadena[::-1]\n",
    "\n",
    "print(\"Empleado\", cadena_ordenada[5:18], \"nacido en el año\", cadena_ordenada[0:4])"
   ]
  },
  {
   "cell_type": "code",
   "execution_count": 60,
   "id": "6736dc64-f363-4e1b-b4bc-65b384218f3e",
   "metadata": {},
   "outputs": [
    {
     "name": "stdout",
     "output_type": "stream",
     "text": [
      "{'Caballo', 'Ballena', 'Gato', 'Pez Payaso', 'León'}\n",
      "{'Sardina', 'Ballena'}\n",
      "False\n"
     ]
    }
   ],
   "source": [
    "#**7) Practiquemos con conjuntos:**\n",
    "\n",
    "#* Crea un conjunto llamado mamíferos que tenga los elementos Gato, León, Caballo, Ballena y Tortuga\n",
    "\n",
    "mamiferos = {\"Gato\",\"León\",\"Caballo\",\"Ballena\",\"Tortuga\"}\n",
    "\n",
    "#* Crea un conjunto llamado peces que tenga los elementos Ballena y Sardina\n",
    "\n",
    "peces = {\"Ballena\",\"Sardina\"}\n",
    "\n",
    "#* Borra la Tortuga del conjunto mamiíferos\n",
    "\n",
    "mamiferos.remove(\"Tortuga\")\n",
    "\n",
    "#* Añade el Pez Payaso al conjunto peces\n",
    "\n",
    "mamiferos.add(\"Pez Payaso\")\n",
    "\n",
    "#* Imprime los conjuntos por pantalla\n",
    "\n",
    "print(mamiferos)\n",
    "print(peces)\n",
    "\n",
    "#* Imprime por pantalla los elementos que se encuentren en ambos conjuntos, es decir, que sean mamíferos y peces\n",
    "i = mamiferos\n",
    "i = peces\n",
    "print(i in mamiferos and peces)"
   ]
  },
  {
   "cell_type": "code",
   "execution_count": 129,
   "id": "8b5ed8ba-24a4-40f9-b3db-56efaf2212f0",
   "metadata": {},
   "outputs": [
    {
     "name": "stdout",
     "output_type": "stream",
     "text": [
      "{'id': [1, 2, 3], 'nombre': ['Arduino', 'RPi', 'Print 3D'], 'precio': [30, 70, 300]}\n",
      "{'id': [1, 2, 3], 'nombre': ['Arduino', 'RPi', 'Print 3D'], 'precio': [40, 80, 400]}\n",
      "1 - Arduino - 40\n",
      "2 - RPi - 80\n",
      "3 - Print 3D - 400\n",
      "[40, 80, 400, 40, 80, 400]\n"
     ]
    }
   ],
   "source": [
    "#**8) Practiquemos con diccionarios. Tenemos un diccionario que contiene una serie de productos. Realicemos las tres siguientes tareas:**\n",
    "\n",
    "productos = { 'id':[1,2,3], \n",
    "             'nombre':['Arduino', 'RPi', 'Print 3D'], \n",
    "             'precio': [30, 70, 300] \n",
    "            }\n",
    "\n",
    "#* Ver productos\n",
    "\n",
    "print(productos)\n",
    "\n",
    "#* Subir el precio a todos los productos\n",
    "\n",
    "productos['precio'] = [40,80,400]\n",
    "\n",
    "#* Volver a ver todos los precios (para comprobar que el precio ha subido)\n",
    "\n",
    "print(productos)\n",
    "\n",
    "#Al inicio del programa, se mostrarán todos los productos, tienen que aparecer ordenados con el siguiente formato: \n",
    "#<br><code>1 - Arduino - 30€</code><br>\n",
    "\n",
    "print(productos['id'][0],\"-\",productos['nombre'][0],\"-\",productos['precio'][0])\n",
    "print(productos['id'][1],\"-\",productos['nombre'][1],\"-\",productos['precio'][1])\n",
    "print(productos['id'][2],\"-\",productos['nombre'][2],\"-\",productos['precio'][2])\n",
    "\n",
    "#Posteriormente, a todos los productos se aplicará una subida del 50% a todos los precios de productos.<br>\n",
    "#Y finalmente volveremos a mostrar todos los productos para comprobar la subida de precios.\n",
    "\n",
    "productos['precio'] = productos['precio'] * 2\n",
    "print(productos['precio'])\n",
    "\n",
    "#productos = { 'id':[1,2,3], \n",
    "#             'nombre':['Arduino', 'RPi', 'Print 3D'], \n",
    "#             'precio': [30, 70, 300] \n",
    "#            }\n"
   ]
  },
  {
   "cell_type": "code",
   "execution_count": null,
   "id": "255a9e64-81c2-4e96-b079-58df31b79c1e",
   "metadata": {},
   "outputs": [],
   "source": []
  },
  {
   "cell_type": "code",
   "execution_count": null,
   "id": "d4c09fe3-0c7d-4af6-a6e5-2b38faa1fdc3",
   "metadata": {},
   "outputs": [],
   "source": []
  }
 ],
 "metadata": {
  "kernelspec": {
   "display_name": "Python 3 (ipykernel)",
   "language": "python",
   "name": "python3"
  },
  "language_info": {
   "codemirror_mode": {
    "name": "ipython",
    "version": 3
   },
   "file_extension": ".py",
   "mimetype": "text/x-python",
   "name": "python",
   "nbconvert_exporter": "python",
   "pygments_lexer": "ipython3",
   "version": "3.12.4"
  }
 },
 "nbformat": 4,
 "nbformat_minor": 5
}
