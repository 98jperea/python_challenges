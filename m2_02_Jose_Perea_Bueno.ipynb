{
 "cells": [
  {
   "cell_type": "code",
   "execution_count": 21,
   "id": "446b765f-33f1-4931-bcde-98d405e85a40",
   "metadata": {},
   "outputs": [
    {
     "name": "stdout",
     "output_type": "stream",
     "text": [
      "La nota media es: 3.8\n"
     ]
    }
   ],
   "source": [
    "#**1) Crear 5 variables con 5 notas numéricas y realizar la media aritmética. \n",
    "#Mostrar el resultado final con un mensaje como este: \"La nota media es 6.0\"**\n",
    "\n",
    "a = 5\n",
    "b = 7\n",
    "c = 1\n",
    "d = 2\n",
    "e = 4\n",
    "\n",
    "avg = ((a + b + c + d + e) / 5)\n",
    "\n",
    "print(\"La nota media es:\",avg)"
   ]
  },
  {
   "cell_type": "code",
   "execution_count": 23,
   "id": "cb024a00-041a-4473-814e-99e41dcd77e2",
   "metadata": {},
   "outputs": [
    {
     "name": "stdout",
     "output_type": "stream",
     "text": [
      "447.12\n"
     ]
    }
   ],
   "source": [
    "#**2) Busca en la documentación la forma correcta de redondear el siguiente resultado a tan solo 2 decimales: \n",
    "#operacion = (365 / 12) * 14.7**\n",
    "\n",
    "operacion = (365 / 12) * 14.7\n",
    "\n",
    "rounded_number = round(operacion, 2)\n",
    "\n",
    "print(rounded_number)"
   ]
  },
  {
   "cell_type": "code",
   "execution_count": 37,
   "id": "136fa714-2e4b-4f3c-a3f0-c70546d92ecf",
   "metadata": {},
   "outputs": [
    {
     "name": "stdout",
     "output_type": "stream",
     "text": [
      "False\n",
      "False\n"
     ]
    }
   ],
   "source": [
    "#**3) Crea dos variables que almacenen 2 strings (username y password). Realizar las siguientes comprobaciones utilizando operadores lógicos:**\n",
    "#* Que la longitud de username sea mayor o igual que tres y menor que diez\n",
    "#* Que la password sea igual a \"Tokio\" o que sea igual a \"Python\".\n",
    "#<br>La salida por pantalla tiene que ser:\n",
    "#    * **Username: True o False** (según se haya evaluado)\n",
    "#    * **Password: True o False** (según se haya evaluado)\n",
    "\n",
    "username = \"josepereabueno\"\n",
    "password = \"joseespañol\"\n",
    "\n",
    "primera = len(username) >= 3 and len(username) < 10\n",
    "print(primera)\n",
    "\n",
    "segunda = (password == \"Tokio\" or password == \"Python\")\n",
    "print(segunda)"
   ]
  },
  {
   "cell_type": "code",
   "execution_count": 39,
   "id": "eef30f46-3038-42ff-885b-e4e3ea80a7e3",
   "metadata": {},
   "outputs": [
    {
     "name": "stdout",
     "output_type": "stream",
     "text": [
      "18\n",
      "4.0\n"
     ]
    }
   ],
   "source": [
    "#**4) Practiquemos con los operadores de asignación (=, +=, *=, etc.):**\n",
    "#* Crea dos variables y asignales los números que quieras\n",
    "#* Incrementale a num1 su valor en 1\n",
    "#* Decrementale a num2 su valor en 2\n",
    "#* Multiplica num1 por 3 y actualiza su valor\n",
    "#* Dividide num2 por 2 y actualiza su valor\n",
    "#* Muestra los resultados\n",
    "\n",
    "num1 = 5 \n",
    "num2 = 6\n",
    "\n",
    "incremento_num1 = num1 + 1 \n",
    "incremento_num2 = num2 + 2\n",
    "\n",
    "multi_num1 = incremento_num1 * 3\n",
    "divi_num2 = incremento_num2 / 2\n",
    "\n",
    "print(multi_num1)\n",
    "print(divi_num2)"
   ]
  },
  {
   "cell_type": "code",
   "execution_count": null,
   "id": "411c4b8e-e086-4e35-947b-7402cabd4438",
   "metadata": {},
   "outputs": [],
   "source": []
  },
  {
   "cell_type": "code",
   "execution_count": null,
   "id": "5162dee8-5c1d-47f3-aa96-12badf011f4e",
   "metadata": {},
   "outputs": [],
   "source": []
  }
 ],
 "metadata": {
  "kernelspec": {
   "display_name": "Python 3 (ipykernel)",
   "language": "python",
   "name": "python3"
  },
  "language_info": {
   "codemirror_mode": {
    "name": "ipython",
    "version": 3
   },
   "file_extension": ".py",
   "mimetype": "text/x-python",
   "name": "python",
   "nbconvert_exporter": "python",
   "pygments_lexer": "ipython3",
   "version": "3.12.4"
  }
 },
 "nbformat": 4,
 "nbformat_minor": 5
}
